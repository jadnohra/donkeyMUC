{
 "cells": [
  {
   "cell_type": "markdown",
   "metadata": {},
   "source": [
    "Based on https://github.com/naokishibuya/car-finding-lane-lines"
   ]
  },
  {
   "cell_type": "code",
   "execution_count": 35,
   "metadata": {
    "ExecuteTime": {
     "end_time": "2016-12-02T16:49:36.582538",
     "start_time": "2016-12-02T16:49:34.592060"
    },
    "collapsed": true
   },
   "outputs": [],
   "source": [
    "import matplotlib.pyplot as plt\n",
    "import cv2\n",
    "import os, glob\n",
    "import numpy as np\n",
    "\n",
    "%matplotlib inline\n",
    "%config InlineBackend.figure_format = 'retina'\n",
    "g_silent = False\n",
    "g_images_dir = ['test_images', 'more_images'][1]\n",
    "g_dbg_tags = []; ['src', 'contour'];\n",
    "g_dbg_indices = range(5,7)\n",
    "g_use_roi = False\n",
    "g_white_low = [0,200,0]"
   ]
  },
  {
   "cell_type": "code",
   "execution_count": 36,
   "metadata": {},
   "outputs": [],
   "source": [
    "def show_images_(images, cmap):\n",
    "    cols = 2\n",
    "    rows = (len(images)+1)//cols\n",
    "    \n",
    "    plt.figure(figsize=(10, 11))\n",
    "    for i, image in enumerate(images):\n",
    "        plt.subplot(rows, cols, i+1)\n",
    "        # use gray scale color map if there is only one channel\n",
    "        cmap = 'gray' if len(image.shape)==2 else cmap\n",
    "        plt.imshow(image, cmap=cmap)\n",
    "        plt.xticks([])\n",
    "        plt.yticks([])\n",
    "    plt.tight_layout(pad=0, h_pad=0, w_pad=0)\n",
    "    plt.show()\n",
    "    \n",
    "def show_images(images, tag, cmap=None):\n",
    "    if g_dbg_tags is None or tag in g_dbg_tags:\n",
    "        show_images_([images[x] for x in range(len(images)) if x in g_dbg_indices], cmap)\n",
    "src_images = [plt.imread(path) for path in glob.glob('data/{}/*.jpg'.format(g_images_dir))]\n",
    "show_images(src_images, 'src')\n",
    "\n",
    "def convert_hls(image):\n",
    "    return cv2.cvtColor(image, cv2.COLOR_RGB2HLS)\n",
    "hls_images = list(map(convert_hls, src_images))\n",
    "show_images(hls_images, 'hls')\n",
    "\n",
    "def select_white_yellow(hls_image):\n",
    "    converted = hls_image\n",
    "    # white color mask\n",
    "    lower = np.uint8(g_white_low)\n",
    "    upper = np.uint8([255, 255, 255])\n",
    "    white_mask = cv2.inRange(converted, lower, upper)\n",
    "    # yellow color mask\n",
    "    lower = np.uint8([ 10,   0, 100])\n",
    "    upper = np.uint8([ 40, 255, 255])\n",
    "    yellow_mask = cv2.inRange(converted, lower, upper)\n",
    "    # combine the mask\n",
    "    mask = cv2.bitwise_or(white_mask, yellow_mask)\n",
    "    return cv2.bitwise_and(hls_image, hls_image, mask = mask)\n",
    "\n",
    "white_yellow_images = list(map(select_white_yellow, hls_images))\n",
    "show_images(white_yellow_images, 'white_yellow')\n",
    "\n",
    "def convert_gray_scale(image):\n",
    "    return cv2.cvtColor(image, cv2.COLOR_RGB2GRAY)\n",
    "\n",
    "gray_images = list(map(convert_gray_scale, white_yellow_images))\n",
    "show_images(gray_images, 'gray')\n",
    "\n",
    "def apply_smoothing(image, kernel_size=15):\n",
    "    return cv2.GaussianBlur(image, (kernel_size, kernel_size), 0)\n",
    "\n",
    "blurred_images = list(map(lambda image: apply_smoothing(image), gray_images))\n",
    "show_images(blurred_images, 'blurred')\n",
    "\n",
    "if True:\n",
    "    contour_images = []\n",
    "    for i, img in enumerate(blurred_images):\n",
    "        img2, contours, hierarchy = cv2.findContours(img,cv2.RETR_TREE,cv2.CHAIN_APPROX_SIMPLE)\n",
    "        #print len(contours)\n",
    "        contour_images.append(cv2.drawContours(white_yellow_images[i], contours, -1, (0,255,0), 3))\n",
    "    show_images(contour_images, 'contour')\n",
    "    \n",
    "def detect_edges(image, low_threshold=50, high_threshold=150):\n",
    "    return cv2.Canny(image, low_threshold, high_threshold)\n",
    "\n",
    "edge_images = list(map(lambda image: detect_edges(image), blurred_images))\n",
    "show_images(edge_images, 'edge')"
   ]
  },
  {
   "cell_type": "code",
   "execution_count": null,
   "metadata": {
    "collapsed": true
   },
   "outputs": [],
   "source": []
  }
 ],
 "metadata": {
  "anaconda-cloud": {},
  "kernelspec": {
   "display_name": "Python 2",
   "language": "python",
   "name": "python2"
  },
  "language_info": {
   "codemirror_mode": {
    "name": "ipython",
    "version": 2
   },
   "file_extension": ".py",
   "mimetype": "text/x-python",
   "name": "python",
   "nbconvert_exporter": "python",
   "pygments_lexer": "ipython2",
   "version": "2.7.13"
  },
  "latex_envs": {
   "bibliofile": "biblio.bib",
   "cite_by": "apalike",
   "current_citInitial": 1,
   "eqLabelWithNumbers": true,
   "eqNumInitial": 0
  },
  "widgets": {
   "state": {},
   "version": "1.1.2"
  }
 },
 "nbformat": 4,
 "nbformat_minor": 1
}
